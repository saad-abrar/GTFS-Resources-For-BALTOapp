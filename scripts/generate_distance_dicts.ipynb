{
 "cells": [
  {
   "cell_type": "code",
   "execution_count": 1,
   "metadata": {},
   "outputs": [],
   "source": [
    "import numpy as np\n",
    "import pandas as pd\n",
    "import copy"
   ]
  },
  {
   "cell_type": "markdown",
   "metadata": {},
   "source": [
    "## Generating distance dicts"
   ]
  },
  {
   "cell_type": "code",
   "execution_count": 36,
   "metadata": {},
   "outputs": [],
   "source": [
    "def gen_interstop_distance_list(arr):\n",
    "    s_arr = sorted(arr)\n",
    "    #print(arr)\n",
    "    s_arr = [y-x for x, y in zip(s_arr[:-1], s_arr[1:])]\n",
    "    return s_arr\n",
    "\n",
    "def gen_mean(arr):\n",
    "    return np.mean(np.array(arr))\n",
    "\n",
    "def haversine_distance(lat1, lon1, lat2, lon2):\n",
    "    r = 6371\n",
    "    phi1 = np.radians(lat1)\n",
    "    phi2 = np.radians(lat2)\n",
    "    delta_phi = np.radians(lat2 - lat1)\n",
    "    delta_lambda = np.radians(lon2 - lon1)\n",
    "    a = np.sin(delta_phi / 2)**2 + np.cos(phi1) * np.cos(phi2) *   np.sin(delta_lambda / 2)**2\n",
    "    res = r * (2 * np.arctan2(np.sqrt(a), np.sqrt(1 - a)))\n",
    "    return np.round(res, 2)\n",
    "\n",
    "def gen_distance_dicts(target_files, root_path):\n",
    "    distance_dicts = {}\n",
    "    dists = []\n",
    "    for t in target_files:\n",
    "        stop_times = pd.read_csv(root_path+\"/\"+t+\"/stop_times.txt\")\n",
    "        stops = pd.read_csv(root_path+\"/\"+t+\"/stops.txt\")\n",
    "        trips = pd.read_csv(root_path+\"/\"+t+\"/trips.txt\")\n",
    "        dist_travelled = stop_times.merge(trips, on=\"trip_id\").merge(stops, on='stop_id')[[\"trip_id\",\"route_id\",\"stop_id\",\"shape_dist_traveled\",\"stop_name\"]]\n",
    "        dist_travelled = dist_travelled.fillna(0.0)\n",
    "        \n",
    "        # For debugging\n",
    "        dists.append(dist_travelled.groupby([\"route_id\",\"trip_id\"])[\"shape_dist_traveled\"].apply(lambda x: gen_interstop_distance_list(x)))\n",
    "        grouped_by_routes_trips_df = dist_travelled.groupby([\"route_id\",\"trip_id\"])[\"shape_dist_traveled\"].apply(lambda x: gen_mean(gen_interstop_distance_list(x)))\n",
    "        #print(grouped_by_routes_trips_df)\n",
    "        grouped_by_routes_trips_df = grouped_by_routes_trips_df.reset_index()\n",
    "        distance_dicts.update(grouped_by_routes_trips_df.groupby(\"route_id\")[\"shape_dist_traveled\"].mean().to_dict())\n",
    "    return distance_dicts,dists\n"
   ]
  },
  {
   "cell_type": "code",
   "execution_count": 38,
   "metadata": {},
   "outputs": [],
   "source": [
    "#bcdot_dd, dists_bcdot = gen_distance_dicts(target_files, \"..\")\n",
    "#wmata_dd = gen_distance_dicts([\"bus_gtfs_wmata\",\"rail_gtfs_wmata\"],\"WMATA\")\n",
    "umd_shuttle_dd, dists_umddot = gen_distance_dicts([\"20210826_gtfs\"], \".\")"
   ]
  },
  {
   "cell_type": "code",
   "execution_count": 40,
   "metadata": {},
   "outputs": [],
   "source": [
    "### Interstop distances\n",
    "\n",
    "def gen_interstop_distance(x):\n",
    "    x = x.sort_values('stop_sequence')\n",
    "    \n",
    "    dists = []\n",
    "    dists.append(0)\n",
    "    for s1_lon, s1_lat, s2_lon, s2_lat in zip(x[:-1][\"stop_lon\"], x[:-1][\"stop_lat\"], x[1:][\"stop_lon\"],x[1:][\"stop_lat\"]):\n",
    "        dists.append(haversine_distance(s1_lat, s1_lon, s2_lat, s2_lon))\n",
    "    #dist_val = copy.deepcopy(dists)\n",
    "    #print(dist_val)\n",
    "    #x[\"interstop_dist\"] = dists\n",
    "    #print(x)\n",
    "    #print(x[1:])\n",
    "    return dists\n",
    "    \n",
    "def gen_mean(arr):\n",
    "    return np.mean(np.array(arr))\n",
    "\n",
    "def haversine_distance(lat1, lon1, lat2, lon2):\n",
    "    r = 6371\n",
    "    phi1 = np.radians(float(lat1))\n",
    "    phi2 = np.radians(float(lat2))\n",
    "    delta_phi = np.radians(lat2 - lat1)\n",
    "    delta_lambda = np.radians(float(lon2) - float(lon1))\n",
    "    a = np.sin(delta_phi / 2)**2 + np.cos(phi1) * np.cos(phi2) *   np.sin(delta_lambda / 2)**2\n",
    "    res = r * (2 * np.arctan2(np.sqrt(a), np.sqrt(1 - a)))\n",
    "    return np.round(res, 2)\n",
    "\n",
    "def gen_distance_dicts(target_files, root_path):\n",
    "    distance_dicts = {}\n",
    "    dists = []\n",
    "    for t in target_files:\n",
    "        stop_times = pd.read_csv(root_path+\"/\"+t+\"/stop_times.txt\",dtype={'trip_id':str, 'stop_id':str})\n",
    "        stops = pd.read_csv(root_path+\"/\"+t+\"/stops.txt\",dtype={'stop_id':str})\n",
    "        trips = pd.read_csv(root_path+\"/\"+t+\"/trips.txt\",dtype={'trip_id':str, 'route_id':str})\n",
    "\n",
    "        #if(root_path ==\"WMATA\"):\n",
    "            #stops = stops[stops.stop_id.apply(lambda x: type(x)==int or x.isnumeric() )]\n",
    "            #stops = stops.astype({'stop_id': 'int64'})\n",
    "\n",
    "        dist_travelled = stop_times.merge(trips, on=\"trip_id\").merge(stops, on='stop_id')[[\"trip_id\",\"route_id\",\"stop_id\",\"stop_sequence\",\"stop_name\", \"stop_lat\",\"stop_lon\"]]\n",
    "        dist_travelled = dist_travelled.fillna(0.0)\n",
    "        #print(dist_travelled[\"route_id\"].unique())\n",
    "        \n",
    "\n",
    "        # For debugging\n",
    "        dists.append(dist_travelled.groupby([\"route_id\",\"trip_id\"])[[\"stop_lat\",\"stop_lon\",\"stop_sequence\",\"route_id\",\"trip_id\"]].apply(lambda x: gen_interstop_distance(x)))\n",
    "        dist_travelled = dist_travelled.groupby([\"route_id\",\"trip_id\"]).apply(lambda x : gen_mean(gen_interstop_distance(x)))\n",
    "        dist_travelled = dist_travelled.reset_index()\n",
    "        #distance_dicts={} \n",
    "        distance_dicts.update(dist_travelled.groupby(\"route_id\")[0].mean().to_dict())\n",
    "        #distance_dicts\n",
    "        #distance_dicts.update(grouped_by_routes_trips_df.groupby(\"route_id\")[\"shape_dist_traveled\"].mean().to_dict())\n",
    "    return distance_dicts,dists\n",
    "\n",
    "#wmata_dd, dists_wmata = gen_distance_dicts([\"bus_gtfs_wmata\",\"rail_gtfs_wmata\"],\"WMATA\")\n",
    "bc_dot_target_files = [\"mdotmta_gtfs_commuterbus\",\n",
    "                        \"mdotmta_gtfs_localbus\",\n",
    "                        \"mdotmta_gtfs_marc\",\n",
    "                        \"mdotmta_gtfs_lightrail\",\n",
    "                        \"mdotmta_gtfs_metro\"]\n",
    "\n"
   ]
  },
  {
   "cell_type": "code",
   "execution_count": 41,
   "metadata": {},
   "outputs": [
    {
     "name": "stderr",
     "output_type": "stream",
     "text": [
      "/var/folders/vy/0jm52p7s4t70ydv8vt7dh9qc0000gn/T/ipykernel_4441/2234720504.py:49: DeprecationWarning: DataFrameGroupBy.apply operated on the grouping columns. This behavior is deprecated, and in a future version of pandas the grouping columns will be excluded from the operation. Either pass `include_groups=False` to exclude the groupings or explicitly select the grouping columns after groupby to silence this warning.\n",
      "  dist_travelled = dist_travelled.groupby([\"route_id\",\"trip_id\"]).apply(lambda x : gen_mean(gen_interstop_distance(x)))\n",
      "/var/folders/vy/0jm52p7s4t70ydv8vt7dh9qc0000gn/T/ipykernel_4441/2234720504.py:49: DeprecationWarning: DataFrameGroupBy.apply operated on the grouping columns. This behavior is deprecated, and in a future version of pandas the grouping columns will be excluded from the operation. Either pass `include_groups=False` to exclude the groupings or explicitly select the grouping columns after groupby to silence this warning.\n",
      "  dist_travelled = dist_travelled.groupby([\"route_id\",\"trip_id\"]).apply(lambda x : gen_mean(gen_interstop_distance(x)))\n",
      "/var/folders/vy/0jm52p7s4t70ydv8vt7dh9qc0000gn/T/ipykernel_4441/2234720504.py:49: DeprecationWarning: DataFrameGroupBy.apply operated on the grouping columns. This behavior is deprecated, and in a future version of pandas the grouping columns will be excluded from the operation. Either pass `include_groups=False` to exclude the groupings or explicitly select the grouping columns after groupby to silence this warning.\n",
      "  dist_travelled = dist_travelled.groupby([\"route_id\",\"trip_id\"]).apply(lambda x : gen_mean(gen_interstop_distance(x)))\n"
     ]
    }
   ],
   "source": [
    "wmata_dd, dists_wmata = gen_distance_dicts([\"bus_gtfs_wmata\",\"rail_gtfs_wmata\"],\"WMATA\")\n",
    "umd_shuttle_dd, dists_umddot = gen_distance_dicts([\"20210826_gtfs\"], \".\")"
   ]
  },
  {
   "cell_type": "code",
   "execution_count": 43,
   "metadata": {},
   "outputs": [
    {
     "name": "stderr",
     "output_type": "stream",
     "text": [
      "/var/folders/vy/0jm52p7s4t70ydv8vt7dh9qc0000gn/T/ipykernel_4441/2234720504.py:49: DeprecationWarning: DataFrameGroupBy.apply operated on the grouping columns. This behavior is deprecated, and in a future version of pandas the grouping columns will be excluded from the operation. Either pass `include_groups=False` to exclude the groupings or explicitly select the grouping columns after groupby to silence this warning.\n",
      "  dist_travelled = dist_travelled.groupby([\"route_id\",\"trip_id\"]).apply(lambda x : gen_mean(gen_interstop_distance(x)))\n",
      "/var/folders/vy/0jm52p7s4t70ydv8vt7dh9qc0000gn/T/ipykernel_4441/2234720504.py:49: DeprecationWarning: DataFrameGroupBy.apply operated on the grouping columns. This behavior is deprecated, and in a future version of pandas the grouping columns will be excluded from the operation. Either pass `include_groups=False` to exclude the groupings or explicitly select the grouping columns after groupby to silence this warning.\n",
      "  dist_travelled = dist_travelled.groupby([\"route_id\",\"trip_id\"]).apply(lambda x : gen_mean(gen_interstop_distance(x)))\n",
      "/var/folders/vy/0jm52p7s4t70ydv8vt7dh9qc0000gn/T/ipykernel_4441/2234720504.py:49: DeprecationWarning: DataFrameGroupBy.apply operated on the grouping columns. This behavior is deprecated, and in a future version of pandas the grouping columns will be excluded from the operation. Either pass `include_groups=False` to exclude the groupings or explicitly select the grouping columns after groupby to silence this warning.\n",
      "  dist_travelled = dist_travelled.groupby([\"route_id\",\"trip_id\"]).apply(lambda x : gen_mean(gen_interstop_distance(x)))\n",
      "/var/folders/vy/0jm52p7s4t70ydv8vt7dh9qc0000gn/T/ipykernel_4441/2234720504.py:49: DeprecationWarning: DataFrameGroupBy.apply operated on the grouping columns. This behavior is deprecated, and in a future version of pandas the grouping columns will be excluded from the operation. Either pass `include_groups=False` to exclude the groupings or explicitly select the grouping columns after groupby to silence this warning.\n",
      "  dist_travelled = dist_travelled.groupby([\"route_id\",\"trip_id\"]).apply(lambda x : gen_mean(gen_interstop_distance(x)))\n",
      "/var/folders/vy/0jm52p7s4t70ydv8vt7dh9qc0000gn/T/ipykernel_4441/2234720504.py:49: DeprecationWarning: DataFrameGroupBy.apply operated on the grouping columns. This behavior is deprecated, and in a future version of pandas the grouping columns will be excluded from the operation. Either pass `include_groups=False` to exclude the groupings or explicitly select the grouping columns after groupby to silence this warning.\n",
      "  dist_travelled = dist_travelled.groupby([\"route_id\",\"trip_id\"]).apply(lambda x : gen_mean(gen_interstop_distance(x)))\n"
     ]
    }
   ],
   "source": [
    "bcdot_dd, dists_bcdot = gen_distance_dicts(bc_dot_target_files, \"..\")"
   ]
  },
  {
   "cell_type": "code",
   "execution_count": 42,
   "metadata": {},
   "outputs": [
    {
     "name": "stderr",
     "output_type": "stream",
     "text": [
      "/var/folders/vy/0jm52p7s4t70ydv8vt7dh9qc0000gn/T/ipykernel_4441/2234720504.py:49: DeprecationWarning: DataFrameGroupBy.apply operated on the grouping columns. This behavior is deprecated, and in a future version of pandas the grouping columns will be excluded from the operation. Either pass `include_groups=False` to exclude the groupings or explicitly select the grouping columns after groupby to silence this warning.\n",
      "  dist_travelled = dist_travelled.groupby([\"route_id\",\"trip_id\"]).apply(lambda x : gen_mean(gen_interstop_distance(x)))\n",
      "/var/folders/vy/0jm52p7s4t70ydv8vt7dh9qc0000gn/T/ipykernel_4441/2234720504.py:49: DeprecationWarning: DataFrameGroupBy.apply operated on the grouping columns. This behavior is deprecated, and in a future version of pandas the grouping columns will be excluded from the operation. Either pass `include_groups=False` to exclude the groupings or explicitly select the grouping columns after groupby to silence this warning.\n",
      "  dist_travelled = dist_travelled.groupby([\"route_id\",\"trip_id\"]).apply(lambda x : gen_mean(gen_interstop_distance(x)))\n"
     ]
    }
   ],
   "source": [
    "marc_dd, dists_marc = gen_distance_dicts([\"mdotmta_gtfs_marc\"], \"..\")\n",
    "thebus_dd, dists_thebus = gen_distance_dicts([\"us-maryland-prince-georges-county-the-bus-gtfs-477\",],\".\")\n",
    "#keys = thebus_dd_df.keys().copy()"
   ]
  },
  {
   "cell_type": "code",
   "execution_count": 44,
   "metadata": {},
   "outputs": [
    {
     "name": "stderr",
     "output_type": "stream",
     "text": [
      "/var/folders/vy/0jm52p7s4t70ydv8vt7dh9qc0000gn/T/ipykernel_4441/2234720504.py:49: DeprecationWarning: DataFrameGroupBy.apply operated on the grouping columns. This behavior is deprecated, and in a future version of pandas the grouping columns will be excluded from the operation. Either pass `include_groups=False` to exclude the groupings or explicitly select the grouping columns after groupby to silence this warning.\n",
      "  dist_travelled = dist_travelled.groupby([\"route_id\",\"trip_id\"]).apply(lambda x : gen_mean(gen_interstop_distance(x)))\n"
     ]
    }
   ],
   "source": [
    "charm_dd, dists_charm = gen_distance_dicts([\"CCC GTFS Feed - Fall 2024\"], \"..\")"
   ]
  },
  {
   "cell_type": "code",
   "execution_count": 45,
   "metadata": {},
   "outputs": [
    {
     "data": {
      "text/plain": [
       "24"
      ]
     },
     "execution_count": 45,
     "metadata": {},
     "output_type": "execute_result"
    }
   ],
   "source": [
    "len(thebus_dd)"
   ]
  },
  {
   "cell_type": "code",
   "execution_count": 46,
   "metadata": {},
   "outputs": [],
   "source": [
    "umd_shuttle_dd_df = pd.DataFrame(umd_shuttle_dd.items(), columns=['route_id', 'avg_dist'])\n",
    "bcdot_dd_df = pd.DataFrame(bcdot_dd.items(), columns=['route_id', 'avg_dist'])\n",
    "wmata_dd_df = pd.DataFrame(wmata_dd.items(), columns=['route_id', 'avg_dist'])\n",
    "thebus_dd_df = pd.DataFrame(thebus_dd.items(), columns=['route_id','avg_dist'])\n",
    "thebus_dd_df[\"route_id\"] = thebus_dd_df[\"route_id\"].astype(str) + \"TB\"\n",
    "marc_dd_df = pd.DataFrame(marc_dd.items(), columns=['route_id','avg_dist'])\n",
    "bcdot_dd_df = pd.DataFrame(bcdot_dd.items(), columns=['route_id','avg_dist'])\n",
    "charm_dd_df = pd.DataFrame(charm_dd.items(), columns=['route_id','avg_dist'])\n",
    "charm_dd_df[\"route_id\"] = charm_dd_df[\"route_id\"].astype(str) + \"CCC\"\n",
    "\n",
    "bcdot_combined_df = pd.concat([charm_dd_df, bcdot_dd_df])\n",
    "wmata_combined_df = pd.concat([umd_shuttle_dd_df, wmata_dd_df, marc_dd_df, thebus_dd_df, bcdot_dd_df, charm_dd_df])"
   ]
  },
  {
   "cell_type": "code",
   "execution_count": 47,
   "metadata": {},
   "outputs": [],
   "source": [
    "umd_shuttle_dd_df.to_csv(\"umd_shuttle_dd.csv\")\n",
    "bcdot_dd_df.to_csv(\"mdot_dd.csv\")\n",
    "wmata_dd_df.to_csv(\"wmata_dd.csv\")\n",
    "wmata_combined_df.to_csv(\"DC_combined_dd.csv\")\n",
    "bcdot_combined_df.to_csv(\"BC_combined_dd.csv\")"
   ]
  },
  {
   "cell_type": "code",
   "execution_count": 48,
   "metadata": {},
   "outputs": [
    {
     "data": {
      "text/html": [
       "<div>\n",
       "<style scoped>\n",
       "    .dataframe tbody tr th:only-of-type {\n",
       "        vertical-align: middle;\n",
       "    }\n",
       "\n",
       "    .dataframe tbody tr th {\n",
       "        vertical-align: top;\n",
       "    }\n",
       "\n",
       "    .dataframe thead th {\n",
       "        text-align: right;\n",
       "    }\n",
       "</style>\n",
       "<table border=\"1\" class=\"dataframe\">\n",
       "  <thead>\n",
       "    <tr style=\"text-align: right;\">\n",
       "      <th></th>\n",
       "      <th>route_id</th>\n",
       "      <th>avg_dist</th>\n",
       "    </tr>\n",
       "  </thead>\n",
       "  <tbody>\n",
       "    <tr>\n",
       "      <th>0</th>\n",
       "      <td>4962CCC</td>\n",
       "      <td>0.360025</td>\n",
       "    </tr>\n",
       "    <tr>\n",
       "      <th>1</th>\n",
       "      <td>4963CCC</td>\n",
       "      <td>0.366248</td>\n",
       "    </tr>\n",
       "    <tr>\n",
       "      <th>2</th>\n",
       "      <td>4964CCC</td>\n",
       "      <td>0.264899</td>\n",
       "    </tr>\n",
       "    <tr>\n",
       "      <th>3</th>\n",
       "      <td>4965CCC</td>\n",
       "      <td>0.330184</td>\n",
       "    </tr>\n",
       "    <tr>\n",
       "      <th>4</th>\n",
       "      <td>6139CCC</td>\n",
       "      <td>0.448894</td>\n",
       "    </tr>\n",
       "  </tbody>\n",
       "</table>\n",
       "</div>"
      ],
      "text/plain": [
       "  route_id  avg_dist\n",
       "0  4962CCC  0.360025\n",
       "1  4963CCC  0.366248\n",
       "2  4964CCC  0.264899\n",
       "3  4965CCC  0.330184\n",
       "4  6139CCC  0.448894"
      ]
     },
     "execution_count": 48,
     "metadata": {},
     "output_type": "execute_result"
    }
   ],
   "source": [
    "charm_dd_df"
   ]
  }
 ],
 "metadata": {
  "kernelspec": {
   "display_name": "base",
   "language": "python",
   "name": "python3"
  },
  "language_info": {
   "codemirror_mode": {
    "name": "ipython",
    "version": 3
   },
   "file_extension": ".py",
   "mimetype": "text/x-python",
   "name": "python",
   "nbconvert_exporter": "python",
   "pygments_lexer": "ipython3",
   "version": "3.12.7"
  }
 },
 "nbformat": 4,
 "nbformat_minor": 4
}
